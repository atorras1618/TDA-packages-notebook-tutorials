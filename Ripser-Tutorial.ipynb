{
 "cells": [
  {
   "cell_type": "markdown",
   "id": "eb50ba50-7513-4648-946a-f237ceba61df",
   "metadata": {},
   "source": [
    "# Ripser C++ code Notebook Tutorial\n",
    "\n",
    "This notebook is a survey tutorial for the C++ Ripser code module by Ulrich Bauer. This tutorial is a work in progress created by Alvaro Torras Casas, Cardiff University, 2022 for didactic and educational purposes. This is aimed at non-`C++` experts and non-TDA experts. If you are an expert, you might find this boring.\n",
    "\n",
    "In this notebook, we consider the source code from the famous C++ Ripser module which computes persistent homology. The original code can be found on this repository: \n",
    "\n",
    "[1] Ulrich Bauer, https://github.com/Ripser/ripser, 2015–2021 \n",
    "\n",
    "Also, the ideas of this code are very well explained at the following article:\n",
    "\n",
    "[2] Bauer, U. Ripser: efficient computation of Vietoris–Rips persistence barcodes. J Appl. and Comput. Topology 5, 391–423 (2021). https://doi.org/10.1007/s41468-021-00071-5\n",
    "\n",
    "This tutorial has no claims of originality, rather than for didactic and educational purposes. \n",
    "It is rather a notebook to go through some of the parts of the original code, breaking down it into small-easy-to-understand pieces. We also put some references to [1] and [2] along this text.\n",
    "\n",
    "## Notebook setup:\n",
    "\n",
    "Notice that for running this notebook you need to have a `c++` kernel installed in jupyterlab. This can be done thanks to `xeus-cling` (https://github.com/jupyter-xeus/xeus-cling) for which you will probably need to install before `miniconda`. Notice that even though `xeus-cling` maintainers say that they do not support packages for the Windows platform, you can still get around this problem by using Windows Subsystem for Linux. To know whether you have successfully installed the `c++` kernel, type:\n",
    "\n",
    "`jupyter kernelspec list`\n",
    "\n",
    "If `xcpp11`, `xcpp14` and `xcpp17` do not appear on the list, you might have to got to the folders where the `xeus-cling` kernels where installed and run\n",
    "\n",
    "`jupyter kernelspec install xcpp11 xcpp14 xcpp17`\n",
    "\n",
    "It took me a while to get this working though. \n",
    "\n",
    "\n",
    "## Ripser Tutorial:\n",
    "\n",
    "First of all, to avoid any licence problems, we copy the associated licence below. Also, we omit some parts of the original code and might have modified it at some places. Also, the order in which we present the code here does not necessarily need to follow the original. However, the idea is that once one understands this tutorial, it should be easy to read the original code from [2]."
   ]
  },
  {
   "cell_type": "code",
   "execution_count": 1,
   "id": "fbca1b97-42dd-457c-bc57-d652f65d1dd3",
   "metadata": {},
   "outputs": [],
   "source": [
    "/*\n",
    " Ripser: a lean C++ code for computation of Vietoris-Rips persistence barcodes\n",
    " MIT License\n",
    " Copyright (c) 2015–2021 Ulrich Bauer\n",
    " Permission is hereby granted, free of charge, to any person obtaining a copy\n",
    " of this software and associated documentation files (the \"Software\"), to deal\n",
    " in the Software without restriction, including without limitation the rights\n",
    " to use, copy, modify, merge, publish, distribute, sublicense, and/or sell\n",
    " copies of the Software, and to permit persons to whom the Software is\n",
    " furnished to do so, subject to the following conditions:\n",
    " The above copyright notice and this permission notice shall be included in all\n",
    " copies or substantial portions of the Software.\n",
    " THE SOFTWARE IS PROVIDED \"AS IS\", WITHOUT WARRANTY OF ANY KIND, EXPRESS OR\n",
    " IMPLIED, INCLUDING BUT NOT LIMITED TO THE WARRANTIES OF MERCHANTABILITY,\n",
    " FITNESS FOR A PARTICULAR PURPOSE AND NONINFRINGEMENT. IN NO EVENT SHALL THE\n",
    " AUTHORS OR COPYRIGHT HOLDERS BE LIABLE FOR ANY CLAIM, DAMAGES OR OTHER\n",
    " LIABILITY, WHETHER IN AN ACTION OF CONTRACT, TORT OR OTHERWISE, ARISING FROM,\n",
    " OUT OF OR IN CONNECTION WITH THE SOFTWARE OR THE USE OR OTHER DEALINGS IN THE\n",
    " SOFTWARE.\n",
    " You are under no obligation whatsoever to provide any bug fixes, patches, or\n",
    " upgrades to the features, functionality or performance of the source code\n",
    " (\"Enhancements\") to anyone; however, if you choose to make your Enhancements\n",
    " available either publicly, or directly to the author of this software, without\n",
    " imposing a separate written license agreement for such Enhancements, then you\n",
    " hereby grant the following license: a non-exclusive, royalty-free perpetual\n",
    " license to install, use, modify, prepare derivative works, incorporate into\n",
    " other computer software, distribute, and sublicense such enhancements or\n",
    " derivative works thereof, in binary and source code form.\n",
    "*/"
   ]
  },
  {
   "cell_type": "markdown",
   "id": "8c2b2eb8-0b84-4861-943a-77b6d1c6efad",
   "metadata": {},
   "source": [
    "Next, there are some imports of usual `C++` modules"
   ]
  },
  {
   "cell_type": "code",
   "execution_count": 2,
   "id": "da2117bd-f81b-4244-8b23-1657069779d2",
   "metadata": {},
   "outputs": [],
   "source": [
    "#include <algorithm>\n",
    "#include <cassert>\n",
    "#include <chrono>\n",
    "#include <cmath>\n",
    "#include <fstream>\n",
    "#include <iostream>\n",
    "#include <numeric>\n",
    "#include <queue>\n",
    "#include <sstream>\n",
    "#include <unordered_map>"
   ]
  },
  {
   "cell_type": "markdown",
   "id": "c359c719-8e05-4461-acac-e010a2b5362f",
   "metadata": {},
   "source": [
    "Then, types for values, indices and coefficients are defined."
   ]
  },
  {
   "cell_type": "code",
   "execution_count": 31,
   "id": "b2d90d95-8a55-404d-bdb4-c66bfc088f2c",
   "metadata": {},
   "outputs": [],
   "source": [
    "typedef float value_t;\n",
    "typedef int64_t index_t;\n",
    "typedef uint16_t coefficient_t;"
   ]
  },
  {
   "cell_type": "markdown",
   "id": "ce8f13fa-ade7-4e6c-9bd7-0e391072edb2",
   "metadata": {},
   "source": [
    "Also, define number of coefficients and maximum simplex index"
   ]
  },
  {
   "cell_type": "code",
   "execution_count": 29,
   "id": "a8715272-4831-478b-ad7d-783b03d6ba31",
   "metadata": {},
   "outputs": [],
   "source": [
    "static const size_t num_coefficient_bits = 8;\n",
    "static const index_t max_simplex_index = (index_t(1) << (8 * sizeof(index_t) - 1 - num_coefficient_bits)) - 1;"
   ]
  },
  {
   "cell_type": "markdown",
   "id": "a9ed2cdb-9ce8-40d0-bdd9-96124972c912",
   "metadata": {},
   "source": [
    "To avoid overflow of `index_t` variables, an overflow check is also created."
   ]
  },
  {
   "cell_type": "code",
   "execution_count": 30,
   "id": "68dc2178-6cd6-45d7-b520-5ab97f021591",
   "metadata": {},
   "outputs": [],
   "source": [
    "void check_overflow(index_t i) {\n",
    "    if\n",
    "    #ifdef USE_COEFFICIENTS\n",
    "        (i > max_simplex_index)\n",
    "    #else\n",
    "        (i < 0)\n",
    "    #endif\n",
    "        throw std::overflow_error(\n",
    "            \"simplex index \" + std::to_string((uint64_t)i) +\n",
    "            \" in filtration is larger than maximum index \" +\n",
    "            std::to_string(max_simplex_index)\n",
    "        );\n",
    "}"
   ]
  },
  {
   "cell_type": "markdown",
   "id": "6dbe1b09-8c0e-47b6-a5c5-84542ef24957",
   "metadata": {},
   "source": [
    "The class below seems to implement the binomial coefficient computation."
   ]
  },
  {
   "cell_type": "code",
   "execution_count": 7,
   "id": "c0c11b48-34e3-4520-baf3-3e4f3f4b1f8f",
   "metadata": {},
   "outputs": [],
   "source": [
    "class binomial_coeff_table {\n",
    "    std::vector<std::vector<index_t>> B;\n",
    "    \n",
    "    public:\n",
    "        binomial_coeff_table(index_t n, index_t k) : B(k + 1, std::vector<index_t>(n + 1, 0)) {\n",
    "            for (index_t i = 0; i <= n; ++i) {\n",
    "                B[0][i] = 1;\n",
    "                for (index_t j = 1; j < std::min(i, k + 1); ++j)\n",
    "                    B[j][i] = B[j - 1][i - 1] + B[j][i - 1];\n",
    "                if (i <= k) B[i][i] = 1;\n",
    "                check_overflow(B[std::min(i >> 1, k)][i]);\n",
    "            }\n",
    "        }\n",
    "\n",
    "        index_t operator()(index_t n, index_t k) const {\n",
    "            assert(n < B.size() && k < B[n].size() && n >= k - 1);\n",
    "            return B[k][n];\n",
    "        }\n",
    "};"
   ]
  },
  {
   "cell_type": "markdown",
   "id": "8352cfcd-2afc-4fe4-99f2-146d6c96ddce",
   "metadata": {},
   "source": [
    "Then, some hash maps and tables are created (tere is an option for Robin Hood hashing which here we omit.)"
   ]
  },
  {
   "cell_type": "code",
   "execution_count": 2,
   "id": "713c0e8b-9ccc-49aa-b5ee-cd9388013602",
   "metadata": {},
   "outputs": [],
   "source": [
    "template <class Key, class T, class H, class E> using hash_map = std::unordered_map<Key, T, H, E>;\n",
    "template <class Key> using hash = std::hash<Key>;"
   ]
  },
  {
   "cell_type": "code",
   "execution_count": 6,
   "id": "accd9530-f1bd-4272-9154-4e1fe4a9a43c",
   "metadata": {},
   "outputs": [
    {
     "ename": "Standard Exception",
     "evalue": "simplex index 18446744073709551615 in filtration is larger than maximum index 36028797018963967",
     "output_type": "error",
     "traceback": [
      "Standard Exception: simplex index 18446744073709551615 in filtration is larger than maximum index 36028797018963967"
     ]
    }
   ],
   "source": [
    "check_overflow(-1)"
   ]
  },
  {
   "cell_type": "markdown",
   "id": "9e9870b1-1fd2-430a-84a7-57cc6ac4bb0a",
   "metadata": {},
   "source": [
    "The following checks if a coefficient is prime:\n",
    " - First, we check whether a number is even (using the bitwise operation `&`) or it is smaller than $2$. If so, it checks that it is 2.\n",
    " - Then, for all odd numbers, starting from $p=3$ and up to $p$ such that $p^2 <= n$, we check whether $p$ divides $n$. If this happens at some $p$ we return `False`."
   ]
  },
  {
   "cell_type": "code",
   "execution_count": 12,
   "id": "411d0fb4-c73b-4a3e-b92f-4aedd6aa279e",
   "metadata": {},
   "outputs": [],
   "source": [
    "bool is_prime(const coefficient_t n) {\n",
    "    if (!(n & 1) || n < 2) return n == 2;\n",
    "    for (coefficient_t p = 3; p <= n / p; p += 2)\n",
    "        if (!(n % p)) return false;\n",
    "    return true;\n",
    "}"
   ]
  },
  {
   "cell_type": "code",
   "execution_count": 19,
   "id": "ae44219d-4a4e-466e-bd49-c7721a4e3053",
   "metadata": {},
   "outputs": [
    {
     "name": "stdout",
     "output_type": "stream",
     "text": [
      "5 is prime: true\n",
      "-1 is prime: false\n",
      "2 is prime: true\n"
     ]
    }
   ],
   "source": [
    "std::cout << std::boolalpha; //This boolalpha makes sure that booleans are displayed as strings\n",
    "std::cout << \"5 is prime: \" << bool(is_prime(5)) << std::endl;\n",
    "std::cout << \"-1 is prime: \" << is_prime(-1) << std::endl;\n",
    "std::cout << \"2 is prime: \" << is_prime(2) << std::endl;"
   ]
  },
  {
   "cell_type": "code",
   "execution_count": null,
   "id": "e33d08a2-543d-4d70-85ac-c3301c595626",
   "metadata": {},
   "outputs": [],
   "source": []
  }
 ],
 "metadata": {
  "kernelspec": {
   "display_name": "C++14",
   "language": "C++14",
   "name": "xcpp14"
  },
  "language_info": {
   "codemirror_mode": "text/x-c++src",
   "file_extension": ".cpp",
   "mimetype": "text/x-c++src",
   "name": "c++",
   "version": "14"
  }
 },
 "nbformat": 4,
 "nbformat_minor": 5
}
