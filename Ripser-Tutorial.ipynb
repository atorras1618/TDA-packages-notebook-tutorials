{
 "cells": [
  {
   "cell_type": "markdown",
   "id": "eb50ba50-7513-4648-946a-f237ceba61df",
   "metadata": {},
   "source": [
    "# Ripser C++ code Notebook Tutorial\n",
    "\n",
    "This notebook is a survey tutorial for the C++ Ripser code module by Ulrich Bauer. This tutorial is a work in progress created by Alvaro Torras Casas, Cardiff University, 2022 for didactic and educational purposes. This is aimed at non-`C++` experts and non-TDA experts. If you are an expert, you might find this boring.\n",
    "\n",
    "In this notebook, we consider the source code from the famous C++ Ripser module which computes persistent homology. The original code can be found on this repository: \n",
    "\n",
    "[1] Ulrich Bauer, https://github.com/Ripser/ripser, 2015–2021 \n",
    "\n",
    "Also, the ideas of this code are very well explained at the following article:\n",
    "\n",
    "[2] Bauer, U. Ripser: efficient computation of Vietoris–Rips persistence barcodes. J Appl. and Comput. Topology 5, 391–423 (2021). https://doi.org/10.1007/s41468-021-00071-5\n",
    "\n",
    "This tutorial has no claims of originality, rather than for didactic and educational purposes. \n",
    "It is rather a notebook to go through some of the parts of the original code, breaking down it into small-easy-to-understand pieces. We also put some references to [1] and [2] along this text.\n",
    "\n",
    "## Notebook setup:\n",
    "\n",
    "Notice that for running this notebook you need to have a `c++` kernel installed in jupyterlab. This can be done thanks to `xeus-cling` (https://github.com/jupyter-xeus/xeus-cling) for which you will probably need to install before `miniconda`. Notice that even though `xeus-cling` maintainers say that they do not support packages for the Windows platform, you can still get around this problem by using Windows Subsystem for Linux. To know whether you have successfully installed the `c++` kernel, type:\n",
    "\n",
    "`jupyter kernelspec list`\n",
    "\n",
    "If `xcpp11`, `xcpp14` and `xcpp17` do not appear on the list, you might have to got to the folders where the `xeus-cling` kernels where installed and run\n",
    "\n",
    "`jupyter kernelspec install xcpp11 xcpp14 xcpp17`\n",
    "\n",
    "It took me a while to get this working though. \n",
    "\n",
    "\n",
    "## Ripser Tutorial:\n",
    "\n",
    "First of all, to avoid any licence problems, we copy the associated licence below. Also, we omit some parts of the original code and might have modified it at some places. Also, the order in which we present the code here does not necessarily need to follow the original. However, the idea is that once one understands this tutorial, it should be easy to read the original code from [2]."
   ]
  },
  {
   "cell_type": "code",
   "execution_count": 1,
   "id": "fbca1b97-42dd-457c-bc57-d652f65d1dd3",
   "metadata": {},
   "outputs": [],
   "source": [
    "/*\n",
    " Ripser: a lean C++ code for computation of Vietoris-Rips persistence barcodes\n",
    " MIT License\n",
    " Copyright (c) 2015–2021 Ulrich Bauer\n",
    " Permission is hereby granted, free of charge, to any person obtaining a copy\n",
    " of this software and associated documentation files (the \"Software\"), to deal\n",
    " in the Software without restriction, including without limitation the rights\n",
    " to use, copy, modify, merge, publish, distribute, sublicense, and/or sell\n",
    " copies of the Software, and to permit persons to whom the Software is\n",
    " furnished to do so, subject to the following conditions:\n",
    " The above copyright notice and this permission notice shall be included in all\n",
    " copies or substantial portions of the Software.\n",
    " THE SOFTWARE IS PROVIDED \"AS IS\", WITHOUT WARRANTY OF ANY KIND, EXPRESS OR\n",
    " IMPLIED, INCLUDING BUT NOT LIMITED TO THE WARRANTIES OF MERCHANTABILITY,\n",
    " FITNESS FOR A PARTICULAR PURPOSE AND NONINFRINGEMENT. IN NO EVENT SHALL THE\n",
    " AUTHORS OR COPYRIGHT HOLDERS BE LIABLE FOR ANY CLAIM, DAMAGES OR OTHER\n",
    " LIABILITY, WHETHER IN AN ACTION OF CONTRACT, TORT OR OTHERWISE, ARISING FROM,\n",
    " OUT OF OR IN CONNECTION WITH THE SOFTWARE OR THE USE OR OTHER DEALINGS IN THE\n",
    " SOFTWARE.\n",
    " You are under no obligation whatsoever to provide any bug fixes, patches, or\n",
    " upgrades to the features, functionality or performance of the source code\n",
    " (\"Enhancements\") to anyone; however, if you choose to make your Enhancements\n",
    " available either publicly, or directly to the author of this software, without\n",
    " imposing a separate written license agreement for such Enhancements, then you\n",
    " hereby grant the following license: a non-exclusive, royalty-free perpetual\n",
    " license to install, use, modify, prepare derivative works, incorporate into\n",
    " other computer software, distribute, and sublicense such enhancements or\n",
    " derivative works thereof, in binary and source code form.\n",
    "*/"
   ]
  },
  {
   "cell_type": "markdown",
   "id": "8c2b2eb8-0b84-4861-943a-77b6d1c6efad",
   "metadata": {},
   "source": [
    "Next, there are some imports of usual `C++` modules"
   ]
  },
  {
   "cell_type": "code",
   "execution_count": 1,
   "id": "da2117bd-f81b-4244-8b23-1657069779d2",
   "metadata": {},
   "outputs": [],
   "source": [
    "#include <algorithm>\n",
    "#include <cassert>\n",
    "#include <chrono>\n",
    "#include <cmath>\n",
    "#include <fstream>\n",
    "#include <iostream>\n",
    "#include <numeric>\n",
    "#include <queue>\n",
    "#include <sstream>\n",
    "#include <unordered_map>"
   ]
  },
  {
   "cell_type": "markdown",
   "id": "c359c719-8e05-4461-acac-e010a2b5362f",
   "metadata": {},
   "source": [
    "Then, types for values, indices and coefficients are defined."
   ]
  },
  {
   "cell_type": "code",
   "execution_count": 2,
   "id": "b2d90d95-8a55-404d-bdb4-c66bfc088f2c",
   "metadata": {},
   "outputs": [],
   "source": [
    "typedef float value_t;\n",
    "typedef int64_t index_t;\n",
    "typedef uint16_t coefficient_t;"
   ]
  },
  {
   "cell_type": "markdown",
   "id": "ce8f13fa-ade7-4e6c-9bd7-0e391072edb2",
   "metadata": {},
   "source": [
    "Also, define number of coefficients and maximum simplex index"
   ]
  },
  {
   "cell_type": "code",
   "execution_count": 3,
   "id": "a8715272-4831-478b-ad7d-783b03d6ba31",
   "metadata": {},
   "outputs": [],
   "source": [
    "static const size_t num_coefficient_bits = 8;\n",
    "static const index_t max_simplex_index = (index_t(1) << (8 * sizeof(index_t) - 1 - num_coefficient_bits)) - 1;"
   ]
  },
  {
   "cell_type": "markdown",
   "id": "a9ed2cdb-9ce8-40d0-bdd9-96124972c912",
   "metadata": {},
   "source": [
    "To avoid overflow of `index_t` variables, an overflow check is also created. We will be using coefficients through the notebook. This is indicated in [1] with a definition `USE_COEFFICIENTS`"
   ]
  },
  {
   "cell_type": "code",
   "execution_count": 4,
   "id": "68dc2178-6cd6-45d7-b520-5ab97f021591",
   "metadata": {},
   "outputs": [],
   "source": [
    "void check_overflow(index_t i) {\n",
    "    if (i > max_simplex_index)\n",
    "        throw std::overflow_error(\n",
    "            \"simplex index \" + std::to_string((uint64_t)i) +\n",
    "            \" in filtration is larger than maximum index \" +\n",
    "            std::to_string(max_simplex_index)\n",
    "        );\n",
    "}"
   ]
  },
  {
   "cell_type": "markdown",
   "id": "6dbe1b09-8c0e-47b6-a5c5-84542ef24957",
   "metadata": {},
   "source": [
    "The class below introduces binomial coefficient tables as objects. Here, recall the data object `std::vector` and how it is constructed. For example, for creating a vector with `6` entries of zeros we proceed as follows: "
   ]
  },
  {
   "cell_type": "code",
   "execution_count": 5,
   "id": "b0df7726-5622-4f62-b2fb-5c67e45caa3f",
   "metadata": {},
   "outputs": [
    {
     "name": "stdout",
     "output_type": "stream",
     "text": [
      "Size of A_vect: 6\n",
      "Value of A_vect[2]: 0\n"
     ]
    }
   ],
   "source": [
    "std::vector<index_t> A_vect(6,0);\n",
    "std::cout << \"Size of A_vect: \" << A_vect.size() << std::endl;\n",
    "int idx = 2;\n",
    "std::cout << \"Value of A_vect[\" << idx << \"]: \" << A_vect[idx] << std::endl;"
   ]
  },
  {
   "cell_type": "markdown",
   "id": "155983f5-feba-4a81-a9fd-b8fab77c6597",
   "metadata": {},
   "source": [
    "### Binomial Tables\n",
    "\n",
    "Next, a class is defined such that it stores binomial coefficients. Some notes:\n",
    "- First, notice that binomial coefficients are stored in a (k+1) x (n+1) matrix.\n",
    "- It is checked whether the binomial coefficients overflow. However, here the right shift bitwise operation `>>` is used. Unfortunately, it is not totally clear to me why this is the case."
   ]
  },
  {
   "cell_type": "code",
   "execution_count": 6,
   "id": "c0c11b48-34e3-4520-baf3-3e4f3f4b1f8f",
   "metadata": {},
   "outputs": [],
   "source": [
    "class binomial_coeff_table {\n",
    "    std::vector<std::vector<index_t>> B;\n",
    "    \n",
    "    public:\n",
    "        binomial_coeff_table(index_t n, index_t k) : B(k + 1, std::vector<index_t>(n + 1, 0)) {\n",
    "            for (index_t i = 0; i <= n; ++i) {\n",
    "                B[0][i] = 1;\n",
    "                for (index_t j = 1; j < std::min(i, k + 1); ++j)\n",
    "                    B[j][i] = B[j - 1][i - 1] + B[j][i - 1];\n",
    "                if (i <= k) B[i][i] = 1;\n",
    "                check_overflow(B[std::min(i >> 1, k)][i]);\n",
    "            }\n",
    "        }\n",
    "\n",
    "        index_t operator()(index_t n, index_t k) const {\n",
    "            assert(n < B.size() && k < B[n].size() && n >= k - 1);\n",
    "            return B[k][n];\n",
    "        }\n",
    "};"
   ]
  },
  {
   "cell_type": "markdown",
   "id": "f200e0e3-b3d9-495d-afad-be1f098468b3",
   "metadata": {},
   "source": [
    "We might create an istance of the class to read directly some binomial coefficients."
   ]
  },
  {
   "cell_type": "code",
   "execution_count": 7,
   "id": "35b71465-9ce7-4dad-99b5-2035c0594988",
   "metadata": {},
   "outputs": [],
   "source": [
    "int n = 7;\n",
    "int k = 4;\n",
    "binomial_coeff_table bct_obj = binomial_coeff_table(n,k);"
   ]
  },
  {
   "cell_type": "code",
   "execution_count": 8,
   "id": "b2de2058-d15c-4b49-b2ea-9a0242ddff26",
   "metadata": {},
   "outputs": [
    {
     "data": {
      "text/plain": [
       "3"
      ]
     },
     "execution_count": 8,
     "metadata": {},
     "output_type": "execute_result"
    }
   ],
   "source": [
    "bct_obj(3,2)"
   ]
  },
  {
   "cell_type": "code",
   "execution_count": 9,
   "id": "2d46d18a-af68-401e-a6ce-7cb82b729b18",
   "metadata": {},
   "outputs": [],
   "source": [
    "// Running bct_obj(n+1, k+1) will stop the kernel (it breaks an assertion error)"
   ]
  },
  {
   "cell_type": "markdown",
   "id": "5b4383b4-14b8-45ab-9f16-c4e0e929d689",
   "metadata": {},
   "source": [
    "Next, we print all values of $\\binom{t}{r}$ for all $0 \\leq t \\leq n$ and all $0 \\leq r \\leq \\textrm{min}(t,k)$."
   ]
  },
  {
   "cell_type": "code",
   "execution_count": 10,
   "id": "478e221a-0f3c-4f6d-a8ee-fab0c16434b4",
   "metadata": {},
   "outputs": [
    {
     "name": "stdout",
     "output_type": "stream",
     "text": [
      "1, \n",
      "1, 1, \n",
      "1, 2, 1, \n",
      "1, 3, 3, 1, \n",
      "1, 4, 6, 4, 1, \n",
      "1, 5, 10, 10, 5, \n",
      "1, 6, 15, 20, 15, \n",
      "1, 7, 21, 35, 35, \n"
     ]
    }
   ],
   "source": [
    "for (int i=0; i <= n; i++) {\n",
    "    for (int j=0; j <= std::min(i, k); j++) {\n",
    "        std::cout << bct_obj(i,j) << \", \";\n",
    "    }\n",
    "    std::cout << std::endl;\n",
    "}"
   ]
  },
  {
   "cell_type": "markdown",
   "id": "9e9870b1-1fd2-430a-84a7-57cc6ac4bb0a",
   "metadata": {},
   "source": [
    "### Primes and Inverses\n",
    "\n",
    "The following checks if a coefficient is prime:\n",
    " - First, we check whether a number is even (using the bitwise operation `&`) or it is smaller than $2$. If so, it checks that it is 2.\n",
    " - Then, for all odd numbers, starting from $p=3$ and up to $p$ such that $p^2 <= n$, we check whether $p$ divides $n$. If this happens at some $p$ we return `False`."
   ]
  },
  {
   "cell_type": "code",
   "execution_count": 11,
   "id": "411d0fb4-c73b-4a3e-b92f-4aedd6aa279e",
   "metadata": {},
   "outputs": [],
   "source": [
    "bool is_prime(const coefficient_t n) {\n",
    "    if (!(n & 1) || n < 2) return n == 2;\n",
    "    for (coefficient_t p = 3; p <= n / p; p += 2)\n",
    "        if (!(n % p)) return false;\n",
    "    return true;\n",
    "}"
   ]
  },
  {
   "cell_type": "code",
   "execution_count": 12,
   "id": "ae44219d-4a4e-466e-bd49-c7721a4e3053",
   "metadata": {},
   "outputs": [
    {
     "name": "stdout",
     "output_type": "stream",
     "text": [
      "5 is prime: true\n",
      "-1 is prime: false\n",
      "2 is prime: true\n"
     ]
    }
   ],
   "source": [
    "std::cout << std::boolalpha; //This boolalpha makes sure that booleans are displayed as strings\n",
    "std::cout << \"5 is prime: \" << bool(is_prime(5)) << std::endl;\n",
    "std::cout << \"-1 is prime: \" << is_prime(-1) << std::endl;\n",
    "std::cout << \"2 is prime: \" << is_prime(2) << std::endl;"
   ]
  },
  {
   "cell_type": "markdown",
   "id": "7644085c-c5e5-4b6a-943b-21cebc513cf9",
   "metadata": {},
   "source": [
    "Next, as indicated by the name, a vector of lenght `m` (a prime number) is created which already contains the inverses modulo `m` for all integrs in `[0,m-1]`. This supposedly should speedup computations as the inverses do not need to be computed on the go."
   ]
  },
  {
   "cell_type": "code",
   "execution_count": 13,
   "id": "ff5d5240-e6f0-4de8-b7b7-57a5248d3f87",
   "metadata": {},
   "outputs": [],
   "source": [
    "std::vector<coefficient_t> multiplicative_inverse_vector(const coefficient_t m) {\n",
    "\tstd::vector<coefficient_t> inverse(m);\n",
    "\tinverse[1] = 1;\n",
    "\t// m = a * (m / a) + m % a\n",
    "\t// Multipying with inverse(a) * inverse(m % a):\n",
    "\t// 0 = inverse(m % a) * (m / a) + inverse(a)  (mod m)\n",
    "\tfor (coefficient_t a = 2; a < m; ++a) inverse[a] = m - (inverse[m % a] * (m / a)) % m;\n",
    "\treturn inverse;\n",
    "}"
   ]
  },
  {
   "cell_type": "markdown",
   "id": "c82ebae3-c193-4b31-ba32-6cbab87b84a8",
   "metadata": {},
   "source": [
    "**Example**\n",
    "\n",
    "As an example, take `m=7`."
   ]
  },
  {
   "cell_type": "code",
   "execution_count": 14,
   "id": "505e2a0b-ffe2-40d3-9818-631a74e5116b",
   "metadata": {},
   "outputs": [
    {
     "name": "stdout",
     "output_type": "stream",
     "text": [
      "inv_vect = (0 ,1 ,4 ,5 ,2 ,3 ,6 ,)\n"
     ]
    }
   ],
   "source": [
    "int len = 7;\n",
    "std::vector<coefficient_t> inv_vect = multiplicative_inverse_vector(len);\n",
    "std::cout << \"inv_vect = (\";\n",
    "for (int i=0; i < len; i++) {\n",
    "    std::cout << inv_vect[i] << \" ,\";\n",
    "}\n",
    "std::cout << \")\" << std::endl;"
   ]
  },
  {
   "cell_type": "markdown",
   "id": "b2dffab0-4175-4b77-bf86-c2b372a60022",
   "metadata": {},
   "source": [
    "### Entries (`entry_t`)\n"
   ]
  },
  {
   "cell_type": "markdown",
   "id": "bd9a7ae0-f2ff-48bc-87af-94522d0b07f9",
   "metadata": {},
   "source": [
    "Create an `entry_t` data structure for storing indices and coefficients. It is checked that it has the same size as an `index_t` variable."
   ]
  },
  {
   "cell_type": "code",
   "execution_count": 15,
   "id": "0fed6054-8f3e-41ba-ac12-d91abbdd2cc1",
   "metadata": {},
   "outputs": [],
   "source": [
    "struct entry_t {\n",
    "\tindex_t index : 8 * sizeof(index_t) - num_coefficient_bits;\n",
    "\tcoefficient_t coefficient : num_coefficient_bits;\n",
    "\tentry_t(index_t _index, coefficient_t _coefficient)\n",
    "\t    : index(_index), coefficient(_coefficient) {}\n",
    "\tentry_t(index_t _index) : index(_index), coefficient(0) {}\n",
    "\tentry_t() : index(0), coefficient(0) {}\n",
    "};\n",
    "\n",
    "static_assert(sizeof(entry_t) == sizeof(index_t), \"size of entry_t is not the same as index_t\");"
   ]
  },
  {
   "cell_type": "markdown",
   "id": "b95eabe8-34b3-4285-ac97-6a1ac312115f",
   "metadata": {},
   "source": [
    "Define several functions for entry handling. We must execute them in different cells for scope reasons."
   ]
  },
  {
   "cell_type": "code",
   "execution_count": 16,
   "id": "c0f91467-4777-4874-aac8-65fb006de604",
   "metadata": {},
   "outputs": [],
   "source": [
    "entry_t make_entry(index_t i, coefficient_t c) { return entry_t(i, c); }"
   ]
  },
  {
   "cell_type": "code",
   "execution_count": 17,
   "id": "7e1c17db-9cca-43cc-adcb-f9ad5dd8f4af",
   "metadata": {},
   "outputs": [],
   "source": [
    "index_t get_index(const entry_t& e) { return e.index; }"
   ]
  },
  {
   "cell_type": "code",
   "execution_count": 18,
   "id": "ed0ce60c-07e1-4b25-9746-0f8ecf7223d0",
   "metadata": {},
   "outputs": [],
   "source": [
    "index_t get_coefficient(const entry_t& e) { return e.coefficient; }"
   ]
  },
  {
   "cell_type": "code",
   "execution_count": 19,
   "id": "ad873cc5-890f-4dbb-911f-b312562f0f92",
   "metadata": {},
   "outputs": [],
   "source": [
    "void set_coefficient(entry_t& e, const coefficient_t c) { e.coefficient = c; }"
   ]
  },
  {
   "cell_type": "code",
   "execution_count": 20,
   "id": "d13358f8-b144-44bd-aca4-95b005f81857",
   "metadata": {},
   "outputs": [],
   "source": [
    "const entry_t& get_entry(const entry_t& e) { return e; }"
   ]
  },
  {
   "cell_type": "markdown",
   "id": "97f4e96e-dfe1-48ae-94bf-b53c24307ca5",
   "metadata": {},
   "source": [
    "Define a way of printing `entry_t`. Here we use a solution to a `xeus-cling` bug from here: https://github.com/root-project/cling/issues/184"
   ]
  },
  {
   "cell_type": "code",
   "execution_count": 35,
   "id": "2591b2a0-3271-404a-bb70-05554119c30c",
   "metadata": {},
   "outputs": [],
   "source": [
    "#define INSERTION_OPERATOR operator<< // Workaround for a bug of cling\n",
    "\n",
    "std::ostream& INSERTION_OPERATOR( std::ostream& stream, const entry_t& e) {\n",
    "    stream << get_index(e) << \":\" << get_coefficient(e);\n",
    "    return stream;\n",
    "};\n",
    "\n",
    "#undef INSERTION_OPERATOR"
   ]
  },
  {
   "cell_type": "markdown",
   "id": "d0a33890-e932-4b7b-8759-83223315865c",
   "metadata": {},
   "source": [
    "**Example:**"
   ]
  },
  {
   "cell_type": "code",
   "execution_count": 22,
   "id": "b6b1c083-d681-4f51-a167-51ad156082bc",
   "metadata": {},
   "outputs": [],
   "source": [
    "entry_t x = make_entry(index_t(17), coefficient_t(8));"
   ]
  },
  {
   "cell_type": "code",
   "execution_count": 23,
   "id": "ab6c554e-7dd1-4150-ae4c-cb37c706298c",
   "metadata": {},
   "outputs": [
    {
     "data": {
      "text/plain": [
       "17"
      ]
     },
     "execution_count": 23,
     "metadata": {},
     "output_type": "execute_result"
    }
   ],
   "source": [
    "get_index(x)"
   ]
  },
  {
   "cell_type": "code",
   "execution_count": 24,
   "id": "f481dacd-e82a-4c34-8214-be4cccf61070",
   "metadata": {},
   "outputs": [
    {
     "data": {
      "text/plain": [
       "8"
      ]
     },
     "execution_count": 24,
     "metadata": {},
     "output_type": "execute_result"
    }
   ],
   "source": [
    "get_coefficient(x)"
   ]
  },
  {
   "cell_type": "code",
   "execution_count": 25,
   "id": "099b871e-a42b-447d-acf2-bc07a4913fa5",
   "metadata": {},
   "outputs": [
    {
     "data": {
      "text/plain": [
       "3"
      ]
     },
     "execution_count": 25,
     "metadata": {},
     "output_type": "execute_result"
    }
   ],
   "source": [
    "set_coefficient(x,3);\n",
    "get_coefficient(x)"
   ]
  },
  {
   "cell_type": "code",
   "execution_count": 38,
   "id": "dcb096d7-685f-4468-9ac6-09daeb99f25c",
   "metadata": {},
   "outputs": [
    {
     "name": "stdout",
     "output_type": "stream",
     "text": [
      "Created entry 17:3\n"
     ]
    }
   ],
   "source": [
    "std::cout << \"Created entry \" << x << std::endl;"
   ]
  },
  {
   "cell_type": "markdown",
   "id": "021152a9-6f5d-4581-a752-fab9eb5e3f3d",
   "metadata": {},
   "source": [
    "### Diameter-Idex and Index-Diameter pairs\n",
    "\n",
    "Next, two pairs are defined: `diameter_index_t` and `index_diameter_t`. Which store a diameter (`float`) and an index."
   ]
  },
  {
   "cell_type": "code",
   "execution_count": 39,
   "id": "31011107-e6e1-4e52-9c2d-9b08b232663c",
   "metadata": {},
   "outputs": [],
   "source": [
    "typedef std::pair<value_t, index_t> diameter_index_t;"
   ]
  },
  {
   "cell_type": "code",
   "execution_count": 40,
   "id": "847f189f-d75d-4b24-a511-9111d5b34005",
   "metadata": {},
   "outputs": [],
   "source": [
    "value_t get_diameter(const diameter_index_t& i) { return i.first; }"
   ]
  },
  {
   "cell_type": "code",
   "execution_count": 41,
   "id": "d9567f8a-f125-4e97-bb87-e14f56ee55ce",
   "metadata": {},
   "outputs": [],
   "source": [
    "index_t get_index(const diameter_index_t& i) { return i.second; }"
   ]
  },
  {
   "cell_type": "code",
   "execution_count": 42,
   "id": "00811ff3-3483-4a2d-aa9a-a099024d7629",
   "metadata": {},
   "outputs": [],
   "source": [
    "typedef std::pair<index_t, value_t> index_diameter_t;"
   ]
  },
  {
   "cell_type": "code",
   "execution_count": 43,
   "id": "0bd60aa2-b208-41d6-8733-4372f6417999",
   "metadata": {},
   "outputs": [],
   "source": [
    "index_t get_index(const index_diameter_t& i) { return i.first; }"
   ]
  },
  {
   "cell_type": "code",
   "execution_count": 44,
   "id": "8e0bf5bd-2490-4c77-b9d3-3941c95cddad",
   "metadata": {},
   "outputs": [],
   "source": [
    "value_t get_diameter(const index_diameter_t& i) { return i.second; }"
   ]
  },
  {
   "cell_type": "markdown",
   "id": "854c6313-0952-4a36-8376-048d721c6e6d",
   "metadata": {},
   "source": [
    "A structure is created for diameters and entries"
   ]
  },
  {
   "cell_type": "code",
   "execution_count": 45,
   "id": "98b4d749-51a9-48a1-88db-2ac944065b5f",
   "metadata": {},
   "outputs": [],
   "source": [
    "struct diameter_entry_t : std::pair<value_t, entry_t> {\n",
    "\tusing std::pair<value_t, entry_t>::pair;\n",
    "\tdiameter_entry_t(value_t _diameter, index_t _index, coefficient_t _coefficient)\n",
    "\t    : diameter_entry_t(_diameter, make_entry(_index, _coefficient)) {}\n",
    "\tdiameter_entry_t(const diameter_index_t& _diameter_index, coefficient_t _coefficient)\n",
    "\t    : diameter_entry_t(get_diameter(_diameter_index),\n",
    "\t                       make_entry(get_index(_diameter_index), _coefficient)) {}\n",
    "\tdiameter_entry_t(const diameter_index_t& _diameter_index)\n",
    "\t    : diameter_entry_t(get_diameter(_diameter_index),\n",
    "\t                       make_entry(get_index(_diameter_index), 0)) {}\n",
    "\tdiameter_entry_t(const index_t& _index) : diameter_entry_t(0, _index, 0) {}\n",
    "};"
   ]
  },
  {
   "cell_type": "code",
   "execution_count": 46,
   "id": "f9d32465-38eb-4d40-ba2b-192c6b5c9cd4",
   "metadata": {},
   "outputs": [],
   "source": [
    "const entry_t& get_entry(const diameter_entry_t& p) { return p.second; }"
   ]
  },
  {
   "cell_type": "code",
   "execution_count": 47,
   "id": "7d7a8608-ae35-42da-93a1-106be664097e",
   "metadata": {},
   "outputs": [],
   "source": [
    "entry_t& get_entry(diameter_entry_t& p) { return p.second; }"
   ]
  },
  {
   "cell_type": "code",
   "execution_count": 48,
   "id": "1800b9b0-ba1a-40d0-a70d-89cecb3ff230",
   "metadata": {},
   "outputs": [],
   "source": [
    "const index_t get_index(const diameter_entry_t& p) { return get_index(get_entry(p)); }"
   ]
  },
  {
   "cell_type": "code",
   "execution_count": 49,
   "id": "70cf7fd4-2503-4d1e-9fff-cd45de8bf861",
   "metadata": {},
   "outputs": [],
   "source": [
    "const coefficient_t get_coefficient(const diameter_entry_t& p) {\n",
    "\treturn get_coefficient(get_entry(p));\n",
    "}"
   ]
  },
  {
   "cell_type": "code",
   "execution_count": 50,
   "id": "1795feb2-9416-493f-ab02-4393492aaae1",
   "metadata": {},
   "outputs": [],
   "source": [
    "const value_t& get_diameter(const diameter_entry_t& p) { return p.first; }"
   ]
  },
  {
   "cell_type": "code",
   "execution_count": 53,
   "id": "cad5af11-2836-4851-b811-9433eb55bd6d",
   "metadata": {},
   "outputs": [],
   "source": [
    "void set_coefficient(diameter_entry_t& p, const coefficient_t c) {\n",
    "\tset_coefficient(get_entry(p), c);\n",
    "}"
   ]
  },
  {
   "cell_type": "markdown",
   "id": "994c684b-63e1-4eb0-a484-57365d8815b5",
   "metadata": {},
   "source": [
    "**Example**"
   ]
  },
  {
   "cell_type": "code",
   "execution_count": 54,
   "id": "4352a16e-a149-4efe-b33c-d03d8b35cbbb",
   "metadata": {},
   "outputs": [
    {
     "name": "stdout",
     "output_type": "stream",
     "text": [
      "Created diameter - entry pair:\n",
      "Diameter: 11.5\n",
      "Entry: 3:4\n",
      "Index: 3\n",
      "Coefficient: 4\n"
     ]
    }
   ],
   "source": [
    "diameter_entry_t diam_entry = diameter_entry_t(11.5, 3, 4);\n",
    "std::cout << \"Created diameter - entry pair:\" << std::endl;\n",
    "std::cout << \"Diameter: \" << get_diameter(diam_entry) << std::endl;\n",
    "std::cout << \"Entry: \" << get_entry(diam_entry) << std::endl;\n",
    "std::cout << \"Index: \" << get_index(diam_entry) << std::endl;\n",
    "std::cout << \"Coefficient: \" << get_coefficient(diam_entry) << std::endl;"
   ]
  },
  {
   "cell_type": "code",
   "execution_count": 56,
   "id": "8581f440-3eb2-45c3-a323-dca9bdf16fb3",
   "metadata": {},
   "outputs": [
    {
     "name": "stdout",
     "output_type": "stream",
     "text": [
      "Entry: 3:7\n",
      "Coefficient: 7\n"
     ]
    }
   ],
   "source": [
    "set_coefficient(diam_entry, 7);\n",
    "std::cout << \"Entry: \" << get_entry(diam_entry) << std::endl;\n",
    "std::cout << \"Coefficient: \" << get_coefficient(diam_entry) << std::endl;"
   ]
  },
  {
   "cell_type": "markdown",
   "id": "c3b241f0-9634-4807-afd3-09edfdbdabc6",
   "metadata": {},
   "source": [
    "### Comparing Diameters and Entries"
   ]
  },
  {
   "cell_type": "code",
   "execution_count": null,
   "id": "0c62fbd2-5147-4c00-a2f4-7a8d6491d5be",
   "metadata": {},
   "outputs": [],
   "source": [
    "template <typename Entry> bool greater_diameter_or_smaller_index(const Entry& a, const Entry& b) {\n",
    "\treturn (get_diameter(a) > get_diameter(b)) ||\n",
    "\t       ((get_diameter(a) == get_diameter(b)) && (get_index(a) < get_index(b)));\n",
    "}"
   ]
  },
  {
   "cell_type": "markdown",
   "id": "ee5c8626-a331-45d2-af1c-bb35d2fbfb0c",
   "metadata": {},
   "source": [
    "**Example**"
   ]
  },
  {
   "cell_type": "code",
   "execution_count": 62,
   "id": "f439bf63-3457-4046-9a8f-d00a14224f4a",
   "metadata": {},
   "outputs": [],
   "source": [
    "diameter_entry_t diam_entry_1 = diameter_entry_t(11.5, 3, 1);\n",
    "diameter_entry_t diam_entry_2 = diameter_entry_t(12, 7, 1);\n",
    "diameter_entry_t diam_entry_3 = diameter_entry_t(12, 8, 1);"
   ]
  },
  {
   "cell_type": "code",
   "execution_count": 66,
   "id": "ce2a935a-eb04-48c2-8678-72262b1b8858",
   "metadata": {},
   "outputs": [
    {
     "name": "stdout",
     "output_type": "stream",
     "text": [
      "false\n",
      "true\n"
     ]
    }
   ],
   "source": [
    "std::cout << greater_diameter_or_smaller_index(diam_entry_1, diam_entry_2) << std::endl;\n",
    "std::cout << greater_diameter_or_smaller_index(diam_entry_2, diam_entry_3) << std::endl;"
   ]
  },
  {
   "cell_type": "markdown",
   "id": "6d9123df-bae5-4c1c-b259-8f16093c0c17",
   "metadata": {},
   "source": [
    "### Compressed Distance Matrix"
   ]
  },
  {
   "cell_type": "code",
   "execution_count": 68,
   "id": "591d3a4a-69f0-4aaf-b5e6-2b2e7efba0c1",
   "metadata": {},
   "outputs": [],
   "source": [
    "enum compressed_matrix_layout { LOWER_TRIANGULAR, UPPER_TRIANGULAR };"
   ]
  },
  {
   "cell_type": "code",
   "execution_count": 82,
   "id": "16f80c92-1e4b-4b32-b5b7-056d3a5e277e",
   "metadata": {},
   "outputs": [],
   "source": [
    "template <compressed_matrix_layout Layout> struct compressed_distance_matrix {\n",
    "\tstd::vector<value_t> distances;\n",
    "\tstd::vector<value_t*> rows;\n",
    "\n",
    "\tcompressed_distance_matrix(std::vector<value_t>&& _distances)\n",
    "\t    : distances(std::move(_distances)), rows((1 + std::sqrt(1 + 8 * distances.size())) / 2) {\n",
    "\t\tassert(distances.size() == size() * (size() - 1) / 2);\n",
    "\t\tinit_rows();\n",
    "\t}\n",
    "\n",
    "\ttemplate <typename DistanceMatrix>\n",
    "\tcompressed_distance_matrix(const DistanceMatrix& mat)\n",
    "\t    : distances(mat.size() * (mat.size() - 1) / 2), rows(mat.size()) {\n",
    "\t\tinit_rows();\n",
    "\n",
    "\t\tfor (size_t i = 1; i < size(); ++i)\n",
    "\t\t\tfor (size_t j = 0; j < i; ++j) rows[i][j] = mat(i, j);\n",
    "\t}\n",
    "\n",
    "\tvalue_t operator()(const index_t i, const index_t j) const;\n",
    "\tsize_t size() const { return rows.size(); }\n",
    "\tvoid init_rows();\n",
    "};"
   ]
  },
  {
   "cell_type": "code",
   "execution_count": 83,
   "id": "3540ebfa-aea2-4682-88ed-72877d0f36f2",
   "metadata": {},
   "outputs": [],
   "source": [
    "typedef compressed_distance_matrix<LOWER_TRIANGULAR> compressed_lower_distance_matrix;\n",
    "typedef compressed_distance_matrix<UPPER_TRIANGULAR> compressed_upper_distance_matrix;"
   ]
  },
  {
   "cell_type": "code",
   "execution_count": 84,
   "id": "0f953bf5-c198-4c4b-9aca-f26a1e2e8a99",
   "metadata": {},
   "outputs": [],
   "source": [
    "template <> void compressed_lower_distance_matrix::init_rows() {\n",
    "\tvalue_t* pointer = &distances[0];\n",
    "\tfor (size_t i = 1; i < size(); ++i) {\n",
    "\t\trows[i] = pointer;\n",
    "\t\tpointer += i;\n",
    "\t}\n",
    "}"
   ]
  },
  {
   "cell_type": "code",
   "execution_count": 85,
   "id": "6500b99b-b71a-4483-9e76-980b6aa2a475",
   "metadata": {},
   "outputs": [],
   "source": [
    "template <> void compressed_upper_distance_matrix::init_rows() {\n",
    "\tvalue_t* pointer = &distances[0] - 1;\n",
    "\tfor (size_t i = 0; i < size() - 1; ++i) {\n",
    "\t\trows[i] = pointer;\n",
    "\t\tpointer += size() - i - 2;\n",
    "\t}\n",
    "}"
   ]
  },
  {
   "cell_type": "code",
   "execution_count": 86,
   "id": "d3bf2f7d-fcde-42ea-9664-cc1a2fefabd2",
   "metadata": {},
   "outputs": [],
   "source": [
    "template <>\n",
    "value_t compressed_lower_distance_matrix::operator()(const index_t i, const index_t j) const {\n",
    "\treturn i == j ? 0 : i < j ? rows[j][i] : rows[i][j];\n",
    "}"
   ]
  },
  {
   "cell_type": "code",
   "execution_count": 87,
   "id": "48b67b7f-f831-4844-87d3-27e6cffa7de5",
   "metadata": {},
   "outputs": [],
   "source": [
    "template <>\n",
    "value_t compressed_upper_distance_matrix::operator()(const index_t i, const index_t j) const {\n",
    "\treturn i == j ? 0 : i > j ? rows[j][i] : rows[i][j];\n",
    "}"
   ]
  },
  {
   "cell_type": "markdown",
   "id": "8352cfcd-2afc-4fe4-99f2-146d6c96ddce",
   "metadata": {},
   "source": [
    "Then, some hash maps and tables are created (there is an option for Robin Hood hashing which here we omit.)"
   ]
  },
  {
   "cell_type": "code",
   "execution_count": 48,
   "id": "713c0e8b-9ccc-49aa-b5ee-cd9388013602",
   "metadata": {},
   "outputs": [],
   "source": [
    "template <class Key, class T, class H, class E> using hash_map = std::unordered_map<Key, T, H, E>;\n",
    "template <class Key> using hash = std::hash<Key>;"
   ]
  },
  {
   "cell_type": "code",
   "execution_count": 49,
   "id": "accd9530-f1bd-4272-9154-4e1fe4a9a43c",
   "metadata": {},
   "outputs": [],
   "source": [
    "check_overflow(-1)"
   ]
  },
  {
   "cell_type": "code",
   "execution_count": null,
   "id": "e33d08a2-543d-4d70-85ac-c3301c595626",
   "metadata": {},
   "outputs": [],
   "source": []
  }
 ],
 "metadata": {
  "kernelspec": {
   "display_name": "C++14",
   "language": "C++14",
   "name": "xcpp14"
  },
  "language_info": {
   "codemirror_mode": "text/x-c++src",
   "file_extension": ".cpp",
   "mimetype": "text/x-c++src",
   "name": "c++",
   "version": "14"
  }
 },
 "nbformat": 4,
 "nbformat_minor": 5
}
